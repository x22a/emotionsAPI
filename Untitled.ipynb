{
 "cells": [
  {
   "cell_type": "code",
   "execution_count": 88,
   "metadata": {},
   "outputs": [],
   "source": [
    "from pymongo import MongoClient\n",
    "client = MongoClient(\"mongodb://localhost:27017\")\n",
    "database = client[\"emotionChat\"]\n",
    "userCol = database[\"users\"]\n",
    "chatCol = database[\"chats\"]"
   ]
  },
  {
   "cell_type": "code",
   "execution_count": 80,
   "metadata": {},
   "outputs": [],
   "source": [
    "chatInfo = {\n",
    "    \"Users\":{\n",
    "        \"user\":\"id\"\n",
    "    },\n",
    "    \"Texts\":{\n",
    "        \"msg1\":{\n",
    "            \"name\":\"juan\", \n",
    "            \"text\":\"hola peña\"\n",
    "        },\n",
    "        \"msg2\":{\n",
    "            \"name\": \"pepe\", \n",
    "            \"text\": \"que dise juan\"\n",
    "        }\n",
    "    }\n",
    "}"
   ]
  },
  {
   "cell_type": "code",
   "execution_count": 37,
   "metadata": {},
   "outputs": [],
   "source": [
    "usuarios = [(\"juan\", \"14j\"), (\"pedro\", \"15j\"), (\"fran\", \"16j\")]\n",
    "\n",
    "for use in usuarios:\n",
    "    chatInfo[\"Users\"][use[0]] = use[1]"
   ]
  },
  {
   "cell_type": "code",
   "execution_count": 178,
   "metadata": {},
   "outputs": [],
   "source": [
    "chatInfo[\"Texts\"][\"msg8\"] = {\"name\": \"hector\", \"text\": \"aupa ahí\"}"
   ]
  },
  {
   "cell_type": "code",
   "execution_count": 179,
   "metadata": {},
   "outputs": [
    {
     "data": {
      "text/plain": [
       "{'Users': {'user': 'id'},\n",
       " 'Texts': {'msg1': {'name': 'juan', 'text': 'hola peña'},\n",
       "  'msg2': {'name': 'pepe', 'text': 'que dise juan'},\n",
       "  'msg3': {'name': 'xabi', 'text': 'aupa ahí'},\n",
       "  'msg4': {'name': 'xabi', 'text': 'a las 7'},\n",
       "  'msg5': {'name': 'guille', 'text': 'vamos a por cerve'},\n",
       "  'msg6': {'name': 'patri', 'text': 'a las 7'},\n",
       "  'msg7': {'name': 'xabi', 'text': 'a las 7'},\n",
       "  'msg8': {'name': 'hector', 'text': 'aupa ahí'}}}"
      ]
     },
     "execution_count": 179,
     "metadata": {},
     "output_type": "execute_result"
    }
   ],
   "source": [
    "chatInfo"
   ]
  },
  {
   "cell_type": "code",
   "execution_count": 149,
   "metadata": {},
   "outputs": [],
   "source": [
    "chatInfo[\"Texts\"][\"msg4\"] = {\"name\": \"xabi\", \"text\": \"a las 7\"}"
   ]
  },
  {
   "cell_type": "code",
   "execution_count": 174,
   "metadata": {},
   "outputs": [],
   "source": [
    "def queDijo(nombre):\n",
    "    lista = []\n",
    "    for n in range(10):\n",
    "        try:\n",
    "            lista.append(list(chatCol.find({f\"Texts.msg{n}.name\": nombre}, {f\"Texts.msg{n}.text\" : 1, \"_id\":0}))[0][\"Texts\"][f\"msg{n}\"][\"text\"])\n",
    "        except:\n",
    "            pass\n",
    "    return f\"{nombre} ha dicho\", lista"
   ]
  },
  {
   "cell_type": "code",
   "execution_count": 182,
   "metadata": {
    "scrolled": false
   },
   "outputs": [
    {
     "data": {
      "text/plain": [
       "('xabi ha dicho', ['aupa ahí', 'a las 7', 'a las 7'])"
      ]
     },
     "execution_count": 182,
     "metadata": {},
     "output_type": "execute_result"
    }
   ],
   "source": [
    "queDijo(\"xabi\")"
   ]
  },
  {
   "cell_type": "code",
   "execution_count": 201,
   "metadata": {},
   "outputs": [],
   "source": [
    "usernames = \"algo uno otro\"\n",
    "usernames.split()\n",
    "exist = []\n",
    "dontExist = []\n",
    "for userna in usernames:\n",
    "    if list(userCol.find({\"name\": userna}, {\"_id\" : 1})) == []:\n",
    "        dontExist.append(userna)\n",
    "    else:\n",
    "        exist.append(userna)"
   ]
  },
  {
   "cell_type": "code",
   "execution_count": 210,
   "metadata": {},
   "outputs": [
    {
     "name": "stdout",
     "output_type": "stream",
     "text": [
      "algo\n",
      "uno\n",
      "otro\n"
     ]
    }
   ],
   "source": [
    "usernames = \"algo, uno, otro\"\n",
    "usernames = usernames.split(\",\")\n",
    "for userna in usernames:\n",
    "    print(userna.strip())"
   ]
  },
  {
   "cell_type": "code",
   "execution_count": 214,
   "metadata": {
    "scrolled": true
   },
   "outputs": [
    {
     "data": {
      "text/plain": [
       "{'_id': ObjectId('5e4fe81eef564d2ef900a83e')}"
      ]
     },
     "execution_count": 214,
     "metadata": {},
     "output_type": "execute_result"
    }
   ],
   "source": [
    "list(userCol.find({\"name\": \"xabi\"}, {\"_id\" : 1}))[0]"
   ]
  }
 ],
 "metadata": {
  "kernelspec": {
   "display_name": "Python 3",
   "language": "python",
   "name": "python3"
  },
  "language_info": {
   "codemirror_mode": {
    "name": "ipython",
    "version": 3
   },
   "file_extension": ".py",
   "mimetype": "text/x-python",
   "name": "python",
   "nbconvert_exporter": "python",
   "pygments_lexer": "ipython3",
   "version": "3.7.5"
  }
 },
 "nbformat": 4,
 "nbformat_minor": 2
}
