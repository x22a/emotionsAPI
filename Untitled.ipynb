{
 "cells": [
  {
   "cell_type": "code",
   "execution_count": 88,
   "metadata": {},
   "outputs": [],
   "source": [
    "from pymongo import MongoClient\n",
    "client = MongoClient(\"mongodb://localhost:27017\")\n",
    "database = client[\"emotionChat\"]\n",
    "userCol = database[\"users\"]\n",
    "chatCol = database[\"chats\"]"
   ]
  },
  {
   "cell_type": "code",
   "execution_count": 80,
   "metadata": {},
   "outputs": [],
   "source": [
    "chatInfo = {\n",
    "    \"Users\":{\n",
    "        \"user\":\"id\"\n",
    "    },\n",
    "    \"Texts\":{\n",
    "        \"msg1\":{\n",
    "            \"name\":\"juan\", \n",
    "            \"text\":\"hola peña\"\n",
    "        },\n",
    "        \"msg2\":{\n",
    "            \"name\": \"pepe\", \n",
    "            \"text\": \"que dise juan\"\n",
    "        }\n",
    "    }\n",
    "}"
   ]
  },
  {
   "cell_type": "code",
   "execution_count": 37,
   "metadata": {},
   "outputs": [],
   "source": [
    "usuarios = [(\"juan\", \"14j\"), (\"pedro\", \"15j\"), (\"fran\", \"16j\")]\n",
    "\n",
    "for use in usuarios:\n",
    "    chatInfo[\"Users\"][use[0]] = use[1]"
   ]
  },
  {
   "cell_type": "code",
   "execution_count": 85,
   "metadata": {},
   "outputs": [],
   "source": [
    "chatInfo[\"Texts\"][\"msg3\"] = {\"name\": \"xabi\", \"text\": \"aupa ahí\"}"
   ]
  },
  {
   "cell_type": "code",
   "execution_count": 170,
   "metadata": {},
   "outputs": [
    {
     "data": {
      "text/plain": [
       "{'Users': {'user': 'id'},\n",
       " 'Texts': {'msg1': {'name': 'juan', 'text': 'hola peña'},\n",
       "  'msg2': {'name': 'pepe', 'text': 'que dise juan'},\n",
       "  'msg3': {'name': 'xabi', 'text': 'aupa ahí'},\n",
       "  'msg4': {'name': 'xabi', 'text': 'a las 7'},\n",
       "  'msg5': {'name': 'guille', 'text': 'vamos a por cerve'},\n",
       "  'msg6': {'name': 'patri', 'text': 'a las 7'},\n",
       "  'msg7': {'name': 'xabi', 'text': 'a las 7'}}}"
      ]
     },
     "execution_count": 170,
     "metadata": {},
     "output_type": "execute_result"
    }
   ],
   "source": [
    "chatInfo"
   ]
  },
  {
   "cell_type": "code",
   "execution_count": 149,
   "metadata": {},
   "outputs": [],
   "source": [
    "chatInfo[\"Texts\"][\"msg4\"] = {\"name\": \"xabi\", \"text\": \"a las 7\"}"
   ]
  },
  {
   "cell_type": "code",
   "execution_count": 174,
   "metadata": {},
   "outputs": [],
   "source": [
    "def queDijo(nombre):\n",
    "    lista = []\n",
    "    for n in range(10):\n",
    "        try:\n",
    "            lista.append(list(chatCol.find({f\"Texts.msg{n}.name\": nombre}, {f\"Texts.msg{n}.text\" : 1, \"_id\":0}))[0][\"Texts\"][f\"msg{n}\"][\"text\"])\n",
    "        except:\n",
    "            pass\n",
    "    return f\"{nombre} ha dicho\", lista"
   ]
  },
  {
   "cell_type": "code",
   "execution_count": 177,
   "metadata": {
    "scrolled": false
   },
   "outputs": [
    {
     "data": {
      "text/plain": [
       "('patri ha dicho', ['a las 7'])"
      ]
     },
     "execution_count": 177,
     "metadata": {},
     "output_type": "execute_result"
    }
   ],
   "source": [
    "queDijo(\"patri\")"
   ]
  },
  {
   "cell_type": "code",
   "execution_count": 171,
   "metadata": {},
   "outputs": [
    {
     "name": "stdout",
     "output_type": "stream",
     "text": [
      "[]\n"
     ]
    }
   ],
   "source": []
  }
 ],
 "metadata": {
  "kernelspec": {
   "display_name": "Python 3",
   "language": "python",
   "name": "python3"
  },
  "language_info": {
   "codemirror_mode": {
    "name": "ipython",
    "version": 3
   },
   "file_extension": ".py",
   "mimetype": "text/x-python",
   "name": "python",
   "nbconvert_exporter": "python",
   "pygments_lexer": "ipython3",
   "version": "3.7.5"
  }
 },
 "nbformat": 4,
 "nbformat_minor": 2
}
