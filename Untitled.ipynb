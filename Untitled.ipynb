{
 "cells": [
  {
   "cell_type": "code",
   "execution_count": 355,
   "metadata": {},
   "outputs": [],
   "source": [
    "from pymongo import MongoClient\n",
    "from bson.objectid import ObjectId\n",
    "import re\n",
    "client = MongoClient(\"mongodb://localhost:27017\")\n",
    "database = client[\"emotionChat\"]\n",
    "userCol = database[\"users\"]\n",
    "chatCol = database[\"chats\"]"
   ]
  },
  {
   "cell_type": "code",
   "execution_count": 80,
   "metadata": {},
   "outputs": [],
   "source": [
    "chatInfo = {\n",
    "    \"Users\":{\n",
    "        \"user\":\"id\"\n",
    "    },\n",
    "    \"Texts\":{\n",
    "        \"msg1\":{\n",
    "            \"name\":\"juan\", \n",
    "            \"text\":\"hola peña\"\n",
    "        },\n",
    "        \"msg2\":{\n",
    "            \"name\": \"pepe\", \n",
    "            \"text\": \"que dise juan\"\n",
    "        }\n",
    "    }\n",
    "}"
   ]
  },
  {
   "cell_type": "code",
   "execution_count": 37,
   "metadata": {},
   "outputs": [],
   "source": [
    "usuarios = [(\"juan\", \"14j\"), (\"pedro\", \"15j\"), (\"fran\", \"16j\")]\n",
    "\n",
    "for use in usuarios:\n",
    "    chatInfo[\"Users\"][use[0]] = use[1]"
   ]
  },
  {
   "cell_type": "code",
   "execution_count": 178,
   "metadata": {},
   "outputs": [],
   "source": [
    "chatInfo[\"Texts\"][\"msg8\"] = {\"name\": \"hector\", \"text\": \"aupa ahí\"}"
   ]
  },
  {
   "cell_type": "code",
   "execution_count": 179,
   "metadata": {},
   "outputs": [
    {
     "data": {
      "text/plain": [
       "{'Users': {'user': 'id'},\n",
       " 'Texts': {'msg1': {'name': 'juan', 'text': 'hola peña'},\n",
       "  'msg2': {'name': 'pepe', 'text': 'que dise juan'},\n",
       "  'msg3': {'name': 'xabi', 'text': 'aupa ahí'},\n",
       "  'msg4': {'name': 'xabi', 'text': 'a las 7'},\n",
       "  'msg5': {'name': 'guille', 'text': 'vamos a por cerve'},\n",
       "  'msg6': {'name': 'patri', 'text': 'a las 7'},\n",
       "  'msg7': {'name': 'xabi', 'text': 'a las 7'},\n",
       "  'msg8': {'name': 'hector', 'text': 'aupa ahí'}}}"
      ]
     },
     "execution_count": 179,
     "metadata": {},
     "output_type": "execute_result"
    }
   ],
   "source": [
    "chatInfo"
   ]
  },
  {
   "cell_type": "code",
   "execution_count": 149,
   "metadata": {},
   "outputs": [],
   "source": [
    "chatInfo[\"Texts\"][\"msg4\"] = {\"name\": \"xabi\", \"text\": \"a las 7\"}"
   ]
  },
  {
   "cell_type": "code",
   "execution_count": 174,
   "metadata": {},
   "outputs": [],
   "source": [
    "def queDijo(nombre):\n",
    "    lista = []\n",
    "    for n in range(10):\n",
    "        try:\n",
    "            lista.append(list(chatCol.find({f\"Texts.msg{n}.name\": nombre}, {f\"Texts.msg{n}.text\" : 1, \"_id\":0}))[0][\"Texts\"][f\"msg{n}\"][\"text\"])\n",
    "        except:\n",
    "            pass\n",
    "    return f\"{nombre} ha dicho\", lista"
   ]
  },
  {
   "cell_type": "code",
   "execution_count": 182,
   "metadata": {
    "scrolled": false
   },
   "outputs": [
    {
     "data": {
      "text/plain": [
       "('xabi ha dicho', ['aupa ahí', 'a las 7', 'a las 7'])"
      ]
     },
     "execution_count": 182,
     "metadata": {},
     "output_type": "execute_result"
    }
   ],
   "source": [
    "queDijo(\"xabi\")"
   ]
  },
  {
   "cell_type": "code",
   "execution_count": 201,
   "metadata": {},
   "outputs": [],
   "source": [
    "usernames = \"algo uno otro\"\n",
    "usernames.split()\n",
    "exist = []\n",
    "dontExist = []\n",
    "for userna in usernames:\n",
    "    if list(userCol.find({\"name\": userna}, {\"_id\" : 1})) == []:\n",
    "        dontExist.append(userna)\n",
    "    else:\n",
    "        exist.append(userna)"
   ]
  },
  {
   "cell_type": "code",
   "execution_count": 210,
   "metadata": {},
   "outputs": [
    {
     "name": "stdout",
     "output_type": "stream",
     "text": [
      "algo\n",
      "uno\n",
      "otro\n"
     ]
    }
   ],
   "source": [
    "usernames = \"algo, uno, otro\"\n",
    "usernames = usernames.split(\",\")\n",
    "for userna in usernames:\n",
    "    print(userna.strip())"
   ]
  },
  {
   "cell_type": "code",
   "execution_count": 247,
   "metadata": {
    "scrolled": true
   },
   "outputs": [],
   "source": [
    "idX = list(userCol.find({\"name\": 'xabi'}, {\"_id\" : 1}))[0][\"_id\"]"
   ]
  },
  {
   "cell_type": "code",
   "execution_count": 248,
   "metadata": {},
   "outputs": [
    {
     "data": {
      "text/plain": [
       "{'_id': ObjectId('5e4fe81eef564d2ef900a83e')}"
      ]
     },
     "execution_count": 248,
     "metadata": {},
     "output_type": "execute_result"
    }
   ],
   "source": [
    "\n",
    "list(userCol.find({\"_id\": idX}, {\"_id\" : 1}))[0]\n"
   ]
  },
  {
   "cell_type": "code",
   "execution_count": 251,
   "metadata": {},
   "outputs": [
    {
     "data": {
      "text/plain": [
       "bson.objectid.ObjectId"
      ]
     },
     "execution_count": 251,
     "metadata": {},
     "output_type": "execute_result"
    }
   ],
   "source": [
    "type(idX)"
   ]
  },
  {
   "cell_type": "code",
   "execution_count": 278,
   "metadata": {},
   "outputs": [
    {
     "ename": "TypeError",
     "evalue": "__init__() takes from 1 to 2 positional arguments but 3 were given",
     "output_type": "error",
     "traceback": [
      "\u001b[0;31m---------------------------------------------------------------------------\u001b[0m",
      "\u001b[0;31mTypeError\u001b[0m                                 Traceback (most recent call last)",
      "\u001b[0;32m<ipython-input-278-e10be595c4df>\u001b[0m in \u001b[0;36m<module>\u001b[0;34m\u001b[0m\n\u001b[0;32m----> 1\u001b[0;31m \u001b[0mchatCol\u001b[0m\u001b[0;34m.\u001b[0m\u001b[0mupdate\u001b[0m\u001b[0;34m(\u001b[0m\u001b[0;34m{\u001b[0m\u001b[0;34m\"_id\"\u001b[0m\u001b[0;34m:\u001b[0m \u001b[0mObjectId\u001b[0m\u001b[0;34m(\u001b[0m\u001b[0;34m\"5e518a4a0e1f3038f81db623\"\u001b[0m\u001b[0;34m,\u001b[0m \u001b[0;34m\"Users.juan\"\u001b[0m\u001b[0;34m)\u001b[0m\u001b[0;34m}\u001b[0m\u001b[0;34m,\u001b[0m\u001b[0;34m{\u001b[0m\u001b[0;34m\"Users\"\u001b[0m\u001b[0;34m:\u001b[0m \u001b[0;34m{\u001b[0m\u001b[0;34m\"pepe\"\u001b[0m\u001b[0;34m:\u001b[0m \u001b[0;34m\"111111\"\u001b[0m\u001b[0;34m}\u001b[0m\u001b[0;34m}\u001b[0m\u001b[0;34m)\u001b[0m\u001b[0;34m\u001b[0m\u001b[0;34m\u001b[0m\u001b[0m\n\u001b[0m",
      "\u001b[0;31mTypeError\u001b[0m: __init__() takes from 1 to 2 positional arguments but 3 were given"
     ]
    }
   ],
   "source": [
    "chatCol.update({\"_id\": ObjectId(\"5e518a4a0e1f3038f81db623\", \"Users.juan\")},{\"Users\": {\"pepe\": \"111111\"}})\n"
   ]
  },
  {
   "cell_type": "code",
   "execution_count": 323,
   "metadata": {},
   "outputs": [
    {
     "data": {
      "text/plain": [
       "[{'_id': ObjectId('5e52bdb00282a83eae451666')}]"
      ]
     },
     "execution_count": 323,
     "metadata": {},
     "output_type": "execute_result"
    }
   ],
   "source": [
    "list(chatCol.find({f\"Users.{username}._id\": list(userCol.find({\"name\": \"juan\"}, {\"_id\" : 1}))[0][\"_id\"]}, {\"_id\" : 1}))\n"
   ]
  },
  {
   "cell_type": "code",
   "execution_count": 358,
   "metadata": {},
   "outputs": [
    {
     "data": {
      "text/plain": [
       "<pymongo.results.UpdateResult at 0x10b786410>"
      ]
     },
     "execution_count": 358,
     "metadata": {},
     "output_type": "execute_result"
    }
   ],
   "source": [
    "chatCol.update_one({\"_id\": ObjectId(\"5e52bdb00282a83eae451666\")}, {\"$set\": {\"Texts.msg3\" : {'name': 'juan', 'text': 'el juego'}}})"
   ]
  },
  {
   "cell_type": "code",
   "execution_count": 469,
   "metadata": {},
   "outputs": [],
   "source": [
    "exText = list(chatCol.find({\"_id\": ObjectId(\"5e52bdb00282a83eae451666\")}).sort([(\"Texts\", 1)]).limit(1))[0][\"Texts\"].keys()"
   ]
  },
  {
   "cell_type": "code",
   "execution_count": 470,
   "metadata": {
    "scrolled": true
   },
   "outputs": [
    {
     "data": {
      "text/plain": [
       "dict_keys(['msg1'])"
      ]
     },
     "execution_count": 470,
     "metadata": {},
     "output_type": "execute_result"
    }
   ],
   "source": [
    "exText"
   ]
  },
  {
   "cell_type": "code",
   "execution_count": 472,
   "metadata": {},
   "outputs": [
    {
     "data": {
      "text/plain": [
       "'1'"
      ]
     },
     "execution_count": 472,
     "metadata": {},
     "output_type": "execute_result"
    }
   ],
   "source": [
    "exText = list(exText)[-1]\n",
    "exText"
   ]
  },
  {
   "cell_type": "code",
   "execution_count": 462,
   "metadata": {},
   "outputs": [
    {
     "data": {
      "text/plain": [
       "<re.Match object; span=(0, 1), match='1'>"
      ]
     },
     "execution_count": 462,
     "metadata": {},
     "output_type": "execute_result"
    }
   ],
   "source": [
    "\n",
    "match = re.match(r\"\\d*\" ,exText)\n",
    "match"
   ]
  },
  {
   "cell_type": "code",
   "execution_count": 424,
   "metadata": {},
   "outputs": [],
   "source": [
    "lastEl = int(match.group(0))"
   ]
  },
  {
   "cell_type": "code",
   "execution_count": 425,
   "metadata": {},
   "outputs": [
    {
     "data": {
      "text/plain": [
       "1"
      ]
     },
     "execution_count": 425,
     "metadata": {},
     "output_type": "execute_result"
    }
   ],
   "source": [
    "lastEl"
   ]
  },
  {
   "cell_type": "code",
   "execution_count": 483,
   "metadata": {},
   "outputs": [
    {
     "data": {
      "text/plain": [
       "'hola'"
      ]
     },
     "execution_count": 483,
     "metadata": {},
     "output_type": "execute_result"
    }
   ],
   "source": [
    "list(chatCol.find({f\"Texts.msg{1}.name\": \"xabi\"}, {f\"Texts.msg{1}.text\" : 1, \"_id\": 0}))[0][\"Texts\"][f\"msg{1}\"][\"text\"]"
   ]
  },
  {
   "cell_type": "code",
   "execution_count": null,
   "metadata": {},
   "outputs": [],
   "source": []
  },
  {
   "cell_type": "code",
   "execution_count": null,
   "metadata": {},
   "outputs": [],
   "source": []
  }
 ],
 "metadata": {
  "kernelspec": {
   "display_name": "Python 3",
   "language": "python",
   "name": "python3"
  },
  "language_info": {
   "codemirror_mode": {
    "name": "ipython",
    "version": 3
   },
   "file_extension": ".py",
   "mimetype": "text/x-python",
   "name": "python",
   "nbconvert_exporter": "python",
   "pygments_lexer": "ipython3",
   "version": "3.7.5"
  }
 },
 "nbformat": 4,
 "nbformat_minor": 2
}
