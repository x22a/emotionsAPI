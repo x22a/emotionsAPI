{
 "cells": [
  {
   "cell_type": "markdown",
   "metadata": {},
   "source": [
    "# Chat API with Sentiment Analysis"
   ]
  },
  {
   "cell_type": "markdown",
   "metadata": {},
   "source": [
    "## Endpoints:"
   ]
  },
  {
   "cell_type": "markdown",
   "metadata": {},
   "source": [
    "### \"/user/create/\"\n",
    "###### when you make a GET request to that endpoint it returns an HTML form so you can make a POST request and CREATE an USER"
   ]
  },
  {
   "cell_type": "code",
   "execution_count": 19,
   "metadata": {},
   "outputs": [
    {
     "data": {
      "text/html": [
       "<form method=\"POST\">                                                                              \n",
       "                  Username: <input type=\"text\" name=\"username\"><br>\n",
       "                  <input type=\"submit\" value=\"Submit\"><br>\n",
       "              </form>\n"
      ],
      "text/plain": [
       "<IPython.core.display.HTML object>"
      ]
     },
     "metadata": {},
     "output_type": "display_data"
    }
   ],
   "source": [
    "%%html\n",
    "<form method=\"POST\">                                                                              \n",
    "                  Username: <input type=\"text\" name=\"username\"><br>\n",
    "                  <input type=\"submit\" value=\"Submit\"><br>\n",
    "              </form>"
   ]
  },
  {
   "cell_type": "markdown",
   "metadata": {},
   "source": [
    "### \"/chat/create/\"\n",
    "###### when you make a GET request to that endpoint it returns an HTML form so you can make a POST request and CREATE a CHAT with the USERS you choose. They have to go in the User field separated by \",\" (commas)"
   ]
  },
  {
   "cell_type": "code",
   "execution_count": 17,
   "metadata": {},
   "outputs": [
    {
     "data": {
      "text/html": [
       "<form method=\"POST\">\n",
       "                  Usernames: <input type=\"text\" name=\"username\"><br>\n",
       "                  <input type=\"submit\" value=\"Submit\"><br>\n",
       "              </form>\n"
      ],
      "text/plain": [
       "<IPython.core.display.HTML object>"
      ]
     },
     "metadata": {},
     "output_type": "display_data"
    }
   ],
   "source": [
    "%%html\n",
    "<form method=\"POST\">\n",
    "                  Usernames: <input type=\"text\" name=\"username\"><br>\n",
    "                  <input type=\"submit\" value=\"Submit\"><br>\n",
    "              </form>"
   ]
  },
  {
   "cell_type": "markdown",
   "metadata": {},
   "source": [
    "### \"/chat/<'chat_id'>/adduser\"\n",
    "###### when you make a GET request to that endpoint it returns an HTML form so you can make a POST request and ADD an USER to the <'chat_id'> CHAT"
   ]
  },
  {
   "cell_type": "code",
   "execution_count": 11,
   "metadata": {},
   "outputs": [
    {
     "data": {
      "text/html": [
       "<form method=\"POST\">\n",
       "                  Username: <input type=\"text\" name=\"usernames\"><br>\n",
       "                  <input type=\"submit\" value=\"Submit\"><br>\n",
       "              </form>\n"
      ],
      "text/plain": [
       "<IPython.core.display.HTML object>"
      ]
     },
     "metadata": {},
     "output_type": "display_data"
    }
   ],
   "source": [
    "%%html\n",
    "<form method=\"POST\">\n",
    "                  Username: <input type=\"text\" name=\"usernames\"><br>\n",
    "                  <input type=\"submit\" value=\"Submit\"><br>\n",
    "              </form>"
   ]
  },
  {
   "cell_type": "markdown",
   "metadata": {},
   "source": [
    "### \"/chat/<'chat_id'>/addmessage\"\n",
    "###### when you make a GET request to that endpoint it returns an HTML form so you can make a POST request and ADD a MESSAGE written by the USER you choose to the <'chat_id'> CHAT."
   ]
  },
  {
   "cell_type": "code",
   "execution_count": 8,
   "metadata": {},
   "outputs": [
    {
     "data": {
      "text/html": [
       "<form method=\"POST\">\n",
       "                  Who sends the message?: <input type=\"text\" name=\"user\"><br>\n",
       "                  Message: <input type=\"text\" name=\"message\"><br>\n",
       "                  <input type=\"submit\" value=\"Submit\"><br>\n",
       "              </form>\n"
      ],
      "text/plain": [
       "<IPython.core.display.HTML object>"
      ]
     },
     "metadata": {},
     "output_type": "display_data"
    }
   ],
   "source": [
    "%%html\n",
    "<form method=\"POST\">\n",
    "                  Who sends the message?: <input type=\"text\" name=\"user\"><br>\n",
    "                  Message: <input type=\"text\" name=\"message\"><br>\n",
    "                  <input type=\"submit\" value=\"Submit\"><br>\n",
    "              </form>"
   ]
  },
  {
   "cell_type": "markdown",
   "metadata": {},
   "source": [
    "### \"/chat/<'chat_id'>/list\"\n",
    "###### when you make a GET request to that endpoint it RETURNS ALL the messages from <'chat_id'> CHAT."
   ]
  },
  {
   "cell_type": "markdown",
   "metadata": {},
   "source": [
    "### \"/chat/<'chat_id'>/sentiment\"\n",
    "###### when you make a GET request to that endpoint it RETURNS the SENTIMENT of  <'chat_id'> CHAT."
   ]
  },
  {
   "cell_type": "markdown",
   "metadata": {},
   "source": [
    "### \"/user/<'user'>/sentiment\"\n",
    "###### when you make a GET request to that endpoint it RETURNS the SENTIMENT of  <'user'> USER in all CHATS."
   ]
  },
  {
   "cell_type": "markdown",
   "metadata": {},
   "source": [
    "### \"user/<'user'>/recommend\"\n",
    "###### when you make a GET request to that endpoint it RETURNS the USER that MATCHES the best with <'user'> USER."
   ]
  }
 ],
 "metadata": {
  "kernelspec": {
   "display_name": "Python 3",
   "language": "python",
   "name": "python3"
  },
  "language_info": {
   "codemirror_mode": {
    "name": "ipython",
    "version": 3
   },
   "file_extension": ".py",
   "mimetype": "text/x-python",
   "name": "python",
   "nbconvert_exporter": "python",
   "pygments_lexer": "ipython3",
   "version": "3.7.5"
  }
 },
 "nbformat": 4,
 "nbformat_minor": 2
}
