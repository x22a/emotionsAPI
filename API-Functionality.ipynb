{
 "cells": [
  {
   "cell_type": "markdown",
   "metadata": {},
   "source": [
    "# Chat API with Sentiment Analysis"
   ]
  },
  {
   "cell_type": "code",
   "execution_count": 1,
   "metadata": {},
   "outputs": [],
   "source": [
    "import requests\n",
    "url = \"https://emotionapi.herokuapp.com/\""
   ]
  },
  {
   "cell_type": "markdown",
   "metadata": {},
   "source": [
    "## Endpoints:"
   ]
  },
  {
   "cell_type": "markdown",
   "metadata": {},
   "source": [
    "### \"/user/create\"\n",
    "###### When you make a GET request to that endpoint it returns an HTML form so you can make a POST request and CREATE an USER"
   ]
  },
  {
   "cell_type": "code",
   "execution_count": 2,
   "metadata": {},
   "outputs": [
    {
     "data": {
      "text/html": [
       "<form method=\"POST\">                                                                              \n",
       "                  Username: <input type=\"text\" name=\"username\"><br>\n",
       "                  <input type=\"submit\" value=\"Submit\"><br>\n",
       "              </form>\n"
      ],
      "text/plain": [
       "<IPython.core.display.HTML object>"
      ]
     },
     "metadata": {},
     "output_type": "display_data"
    }
   ],
   "source": [
    "%%html\n",
    "<form method=\"POST\">                                                                              \n",
    "                  Username: <input type=\"text\" name=\"username\"><br>\n",
    "                  <input type=\"submit\" value=\"Submit\"><br>\n",
    "              </form>"
   ]
  },
  {
   "cell_type": "markdown",
   "metadata": {},
   "source": [
    "###### You can POST directly the USER to the endpoint"
   ]
  },
  {
   "cell_type": "code",
   "execution_count": 3,
   "metadata": {},
   "outputs": [
    {
     "data": {
      "text/plain": [
       "'jose already exists in the Database with ID: (5e54151318ef4c69d6f18801). Please try another name'"
      ]
     },
     "execution_count": 3,
     "metadata": {},
     "output_type": "execute_result"
    }
   ],
   "source": [
    "endpoint = \"user/create\"\n",
    "fullUrl = url+endpoint\n",
    "name = \"jose\"\n",
    "params = {\n",
    "    'username': name\n",
    "}\n",
    "requests.post(fullUrl, data=params).text"
   ]
  },
  {
   "cell_type": "markdown",
   "metadata": {},
   "source": [
    "### \"/chat/create\"\n",
    "###### when you make a GET request to that endpoint it returns an HTML form so you can make a POST request and CREATE a CHAT with the USERS you choose. They have to go in the User field separated by \",\" (commas)"
   ]
  },
  {
   "cell_type": "code",
   "execution_count": 4,
   "metadata": {},
   "outputs": [
    {
     "data": {
      "text/html": [
       "<form method=\"POST\">\n",
       "                  Usernames: <input type=\"text\" name=\"username\"><br>\n",
       "                  <input type=\"submit\" value=\"Submit\"><br>\n",
       "              </form>\n"
      ],
      "text/plain": [
       "<IPython.core.display.HTML object>"
      ]
     },
     "metadata": {},
     "output_type": "display_data"
    }
   ],
   "source": [
    "%%html\n",
    "<form method=\"POST\">\n",
    "                  Usernames: <input type=\"text\" name=\"username\"><br>\n",
    "                  <input type=\"submit\" value=\"Submit\"><br>\n",
    "              </form>"
   ]
  },
  {
   "cell_type": "markdown",
   "metadata": {},
   "source": [
    "###### You can POST directly the USERS to the endpoint"
   ]
  },
  {
   "cell_type": "code",
   "execution_count": 5,
   "metadata": {},
   "outputs": [
    {
     "data": {
      "text/plain": [
       "'<h1>Chat created with id: 5e541ef39271ac5d9ccc6e66</h1>'"
      ]
     },
     "execution_count": 5,
     "metadata": {},
     "output_type": "execute_result"
    }
   ],
   "source": [
    "endpoint = \"chat/create\"\n",
    "fullUrl = url+endpoint\n",
    "name = \"juanan, antonio, jose\"\n",
    "params = {\n",
    "    'usernames': name\n",
    "}\n",
    "requests.post(fullUrl, data=params).text"
   ]
  },
  {
   "cell_type": "markdown",
   "metadata": {},
   "source": [
    "### \"/chat/<'chat_id'>/adduser\"\n",
    "###### when you make a GET request to that endpoint it returns an HTML form so you can make a POST request and ADD an USER to the <'chat_id'> CHAT"
   ]
  },
  {
   "cell_type": "code",
   "execution_count": 6,
   "metadata": {},
   "outputs": [
    {
     "data": {
      "text/html": [
       "<form method=\"POST\">\n",
       "                  Username: <input type=\"text\" name=\"usernames\"><br>\n",
       "                  <input type=\"submit\" value=\"Submit\"><br>\n",
       "              </form>\n"
      ],
      "text/plain": [
       "<IPython.core.display.HTML object>"
      ]
     },
     "metadata": {},
     "output_type": "display_data"
    }
   ],
   "source": [
    "%%html\n",
    "<form method=\"POST\">\n",
    "                  Username: <input type=\"text\" name=\"usernames\"><br>\n",
    "                  <input type=\"submit\" value=\"Submit\"><br>\n",
    "              </form>"
   ]
  },
  {
   "cell_type": "markdown",
   "metadata": {},
   "source": [
    "###### You can POST directly the USER to the endpoint"
   ]
  },
  {
   "cell_type": "code",
   "execution_count": 7,
   "metadata": {},
   "outputs": [
    {
     "data": {
      "text/plain": [
       "\"User ['jose'] added to chat: 5e53ac49452ccadc4352b138\""
      ]
     },
     "execution_count": 7,
     "metadata": {},
     "output_type": "execute_result"
    }
   ],
   "source": [
    "endpoint = \"chat/5e53ac49452ccadc4352b138/adduser\"\n",
    "fullUrl = url+endpoint\n",
    "name = \"jose\"\n",
    "params = {\n",
    "    'usernames': name\n",
    "}\n",
    "requests.post(fullUrl, data=params).text"
   ]
  },
  {
   "cell_type": "markdown",
   "metadata": {},
   "source": [
    "### \"/chat/<'chat_id'>/addmessage\"\n",
    "###### when you make a GET request to that endpoint it returns an HTML form so you can make a POST request and ADD a MESSAGE written by the USER you choose to the <'chat_id'> CHAT."
   ]
  },
  {
   "cell_type": "code",
   "execution_count": 8,
   "metadata": {},
   "outputs": [
    {
     "data": {
      "text/html": [
       "<form method=\"POST\">\n",
       "                  Who sends the message?: <input type=\"text\" name=\"user\"><br>\n",
       "                  Message: <input type=\"text\" name=\"message\"><br>\n",
       "                  <input type=\"submit\" value=\"Submit\"><br>\n",
       "              </form>\n"
      ],
      "text/plain": [
       "<IPython.core.display.HTML object>"
      ]
     },
     "metadata": {},
     "output_type": "display_data"
    }
   ],
   "source": [
    "%%html\n",
    "<form method=\"POST\">\n",
    "                  Who sends the message?: <input type=\"text\" name=\"user\"><br>\n",
    "                  Message: <input type=\"text\" name=\"message\"><br>\n",
    "                  <input type=\"submit\" value=\"Submit\"><br>\n",
    "              </form>"
   ]
  },
  {
   "cell_type": "markdown",
   "metadata": {},
   "source": [
    "###### You can POST directly the USER and the MESSAGE to the endpoint"
   ]
  },
  {
   "cell_type": "code",
   "execution_count": 9,
   "metadata": {},
   "outputs": [
    {
     "data": {
      "text/plain": [
       "'Message added to chat: 5e53ac49452ccadc4352b138'"
      ]
     },
     "execution_count": 9,
     "metadata": {},
     "output_type": "execute_result"
    }
   ],
   "source": [
    "endpoint = \"chat/5e53ac49452ccadc4352b138/addmessage\"\n",
    "fullUrl = url+endpoint\n",
    "name = \"jose\"\n",
    "message = \"holahola\"\n",
    "params = {\n",
    "    'user': name,\n",
    "    'message': message\n",
    "}\n",
    "requests.post(fullUrl, data=params).text"
   ]
  },
  {
   "cell_type": "markdown",
   "metadata": {},
   "source": [
    "### \"/chat/<'chat_id'>/list\"\n",
    "###### when you make a GET request to that endpoint it RETURNS ALL the messages from <'chat_id'> CHAT."
   ]
  },
  {
   "cell_type": "code",
   "execution_count": 10,
   "metadata": {},
   "outputs": [
    {
     "data": {
      "text/plain": [
       "'[[\"javi\", \"what\\'s up boys\"], [\"nelson\", \"hey Javi\"], [\"nelson\", \"where are you?\"], [\"oier\", \"Javi! Long time no see\"], [\"viana\", \"do you have the souvenirs?\"], [\"javi\", \"I\\'m in Germany right now\"], [\"xabi\", \"when are you coming back to Spain?\"], [\"javi\", \"by the end of the semester\"], [\"javi\", \"and yes, I have them Viana ;)\"], [\"jorge\", \"Is anybody coming over?\"], [\"xabi\", \"don\\'t think so...\"], [\"xabi\", \"how is that job search going?\"], [\"jorge\", \"I\\'m waiting for two companies to call me\"], [\"xabi\", \"Good luck!\"], [\"xabi\", \"Juan, how is it going in Mexico?\"], [\"juan\", \"These Mexicans are going to kill us someday\"], [\"jose\", \"holahola\"], [\"jose\", \"holahola\"]]'"
      ]
     },
     "execution_count": 10,
     "metadata": {},
     "output_type": "execute_result"
    }
   ],
   "source": [
    "endpoint = \"chat/5e53ac49452ccadc4352b138/list\"\n",
    "fullUrl = url+endpoint\n",
    "requests.get(fullUrl).text"
   ]
  },
  {
   "cell_type": "markdown",
   "metadata": {},
   "source": [
    "### \"/chat/<'chat_id'>/sentiment\"\n",
    "###### when you make a GET request to that endpoint it RETURNS the SENTIMENT of  <'chat_id'> CHAT."
   ]
  },
  {
   "cell_type": "code",
   "execution_count": 11,
   "metadata": {},
   "outputs": [
    {
     "data": {
      "text/plain": [
       "'{\\n  \"error\": \"\\\\n**********************************************************************\\\\n  Resource \\\\u001b[93mvader_lexicon\\\\u001b[0m not found.\\\\n  Please use the NLTK Downloader to obtain the resource:\\\\n\\\\n  \\\\u001b[31m>>> import nltk\\\\n  >>> nltk.download(\\'vader_lexicon\\')\\\\n  \\\\u001b[0m\\\\n  For more information see: https://www.nltk.org/data.html\\\\n\\\\n  Attempted to load \\\\u001b[93msentiment/vader_lexicon.zip/vader_lexicon/vader_lexicon.txt\\\\u001b[0m\\\\n\\\\n  Searched in:\\\\n    - \\'/app/nltk_data\\'\\\\n    - \\'/usr/local/nltk_data\\'\\\\n    - \\'/usr/local/share/nltk_data\\'\\\\n    - \\'/usr/local/lib/nltk_data\\'\\\\n    - \\'/usr/share/nltk_data\\'\\\\n    - \\'/usr/local/share/nltk_data\\'\\\\n    - \\'/usr/lib/nltk_data\\'\\\\n    - \\'/usr/local/lib/nltk_data\\'\\\\n    - \\'\\'\\\\n**********************************************************************\\\\n\"\\n}\\n'"
      ]
     },
     "execution_count": 11,
     "metadata": {},
     "output_type": "execute_result"
    }
   ],
   "source": [
    "endpoint = \"chat/5e53ac49452ccadc4352b138/sentiment\"\n",
    "fullUrl = url+endpoint\n",
    "requests.get(fullUrl).text"
   ]
  },
  {
   "cell_type": "markdown",
   "metadata": {},
   "source": [
    "### \"/user/<'user'>/sentiment\"\n",
    "###### when you make a GET request to that endpoint it RETURNS the SENTIMENT of  <'user'> USER in all CHATS."
   ]
  },
  {
   "cell_type": "code",
   "execution_count": 12,
   "metadata": {},
   "outputs": [
    {
     "data": {
      "text/plain": [
       "'{\\n  \"error\": \"\\'jose\\' is not a valid ObjectId, it must be a 12-byte input or a 24-character hex string\"\\n}\\n'"
      ]
     },
     "execution_count": 12,
     "metadata": {},
     "output_type": "execute_result"
    }
   ],
   "source": [
    "endpoint = \"chat/jose/sentiment\"\n",
    "fullUrl = url+endpoint\n",
    "requests.get(fullUrl).text"
   ]
  },
  {
   "cell_type": "markdown",
   "metadata": {},
   "source": [
    "### \"user/<'user'>/recommend\"\n",
    "###### when you make a GET request to that endpoint it RETURNS the USER that MATCHES the best with <'user'> USER."
   ]
  },
  {
   "cell_type": "code",
   "execution_count": 13,
   "metadata": {
    "scrolled": true
   },
   "outputs": [
    {
     "data": {
      "text/plain": [
       "'{\\n  \"error\": \"\\'Texts\\'\"\\n}\\n'"
      ]
     },
     "execution_count": 13,
     "metadata": {},
     "output_type": "execute_result"
    }
   ],
   "source": [
    "endpoint = \"user/xabi/recommend\"\n",
    "fullUrl = url+endpoint\n",
    "requests.get(fullUrl).text"
   ]
  },
  {
   "cell_type": "code",
   "execution_count": 16,
   "metadata": {},
   "outputs": [
    {
     "ename": "ConfigurationError",
     "evalue": "The \"dnspython\" module must be installed to use mongodb+srv:// URIs",
     "output_type": "error",
     "traceback": [
      "\u001b[0;31m---------------------------------------------------------------------------\u001b[0m",
      "\u001b[0;31mConfigurationError\u001b[0m                        Traceback (most recent call last)",
      "\u001b[0;32m<ipython-input-16-c0e54cbe9961>\u001b[0m in \u001b[0;36m<module>\u001b[0;34m\u001b[0m\n\u001b[1;32m      2\u001b[0m \u001b[0;32mfrom\u001b[0m \u001b[0msrc\u001b[0m\u001b[0;34m.\u001b[0m\u001b[0mconfig\u001b[0m \u001b[0;32mimport\u001b[0m \u001b[0mdbURL\u001b[0m\u001b[0;34m\u001b[0m\u001b[0;34m\u001b[0m\u001b[0m\n\u001b[1;32m      3\u001b[0m \u001b[0;34m\u001b[0m\u001b[0m\n\u001b[0;32m----> 4\u001b[0;31m \u001b[0mclient\u001b[0m \u001b[0;34m=\u001b[0m \u001b[0mMongoClient\u001b[0m\u001b[0;34m(\u001b[0m\u001b[0mdbURL\u001b[0m\u001b[0;34m)\u001b[0m\u001b[0;34m\u001b[0m\u001b[0;34m\u001b[0m\u001b[0m\n\u001b[0m\u001b[1;32m      5\u001b[0m \u001b[0mdatabase\u001b[0m \u001b[0;34m=\u001b[0m \u001b[0mclient\u001b[0m\u001b[0;34m[\u001b[0m\u001b[0;34m\"emotionChat\"\u001b[0m\u001b[0;34m]\u001b[0m\u001b[0;34m\u001b[0m\u001b[0;34m\u001b[0m\u001b[0m\n\u001b[1;32m      6\u001b[0m \u001b[0muserCol\u001b[0m \u001b[0;34m=\u001b[0m \u001b[0mdatabase\u001b[0m\u001b[0;34m[\u001b[0m\u001b[0;34m\"users\"\u001b[0m\u001b[0;34m]\u001b[0m\u001b[0;34m\u001b[0m\u001b[0;34m\u001b[0m\u001b[0m\n",
      "\u001b[0;32m/usr/local/lib/python3.7/site-packages/pymongo/mongo_client.py\u001b[0m in \u001b[0;36m__init__\u001b[0;34m(self, host, port, document_class, tz_aware, connect, type_registry, **kwargs)\u001b[0m\n\u001b[1;32m    619\u001b[0m                 res = uri_parser.parse_uri(\n\u001b[1;32m    620\u001b[0m                     \u001b[0mentity\u001b[0m\u001b[0;34m,\u001b[0m \u001b[0mport\u001b[0m\u001b[0;34m,\u001b[0m \u001b[0mvalidate\u001b[0m\u001b[0;34m=\u001b[0m\u001b[0;32mTrue\u001b[0m\u001b[0;34m,\u001b[0m \u001b[0mwarn\u001b[0m\u001b[0;34m=\u001b[0m\u001b[0;32mTrue\u001b[0m\u001b[0;34m,\u001b[0m \u001b[0mnormalize\u001b[0m\u001b[0;34m=\u001b[0m\u001b[0;32mFalse\u001b[0m\u001b[0;34m,\u001b[0m\u001b[0;34m\u001b[0m\u001b[0;34m\u001b[0m\u001b[0m\n\u001b[0;32m--> 621\u001b[0;31m                     connect_timeout=timeout)\n\u001b[0m\u001b[1;32m    622\u001b[0m                 \u001b[0mseeds\u001b[0m\u001b[0;34m.\u001b[0m\u001b[0mupdate\u001b[0m\u001b[0;34m(\u001b[0m\u001b[0mres\u001b[0m\u001b[0;34m[\u001b[0m\u001b[0;34m\"nodelist\"\u001b[0m\u001b[0;34m]\u001b[0m\u001b[0;34m)\u001b[0m\u001b[0;34m\u001b[0m\u001b[0;34m\u001b[0m\u001b[0m\n\u001b[1;32m    623\u001b[0m                 \u001b[0musername\u001b[0m \u001b[0;34m=\u001b[0m \u001b[0mres\u001b[0m\u001b[0;34m[\u001b[0m\u001b[0;34m\"username\"\u001b[0m\u001b[0;34m]\u001b[0m \u001b[0;32mor\u001b[0m \u001b[0musername\u001b[0m\u001b[0;34m\u001b[0m\u001b[0;34m\u001b[0m\u001b[0m\n",
      "\u001b[0;32m/usr/local/lib/python3.7/site-packages/pymongo/uri_parser.py\u001b[0m in \u001b[0;36mparse_uri\u001b[0;34m(uri, default_port, validate, warn, normalize, connect_timeout)\u001b[0m\n\u001b[1;32m    388\u001b[0m     \u001b[0;32melif\u001b[0m \u001b[0muri\u001b[0m\u001b[0;34m.\u001b[0m\u001b[0mstartswith\u001b[0m\u001b[0;34m(\u001b[0m\u001b[0mSRV_SCHEME\u001b[0m\u001b[0;34m)\u001b[0m\u001b[0;34m:\u001b[0m\u001b[0;34m\u001b[0m\u001b[0;34m\u001b[0m\u001b[0m\n\u001b[1;32m    389\u001b[0m         \u001b[0;32mif\u001b[0m \u001b[0;32mnot\u001b[0m \u001b[0m_HAVE_DNSPYTHON\u001b[0m\u001b[0;34m:\u001b[0m\u001b[0;34m\u001b[0m\u001b[0;34m\u001b[0m\u001b[0m\n\u001b[0;32m--> 390\u001b[0;31m             raise ConfigurationError('The \"dnspython\" module must be '\n\u001b[0m\u001b[1;32m    391\u001b[0m                                      'installed to use mongodb+srv:// URIs')\n\u001b[1;32m    392\u001b[0m         \u001b[0mis_srv\u001b[0m \u001b[0;34m=\u001b[0m \u001b[0;32mTrue\u001b[0m\u001b[0;34m\u001b[0m\u001b[0;34m\u001b[0m\u001b[0m\n",
      "\u001b[0;31mConfigurationError\u001b[0m: The \"dnspython\" module must be installed to use mongodb+srv:// URIs"
     ]
    }
   ],
   "source": [
    "from pymongo import MongoClient\n",
    "from src.config import dbURL\n",
    "\n",
    "client = MongoClient(dbURL)\n",
    "database = client[\"emotionChat\"]\n",
    "userCol = database[\"users\"]\n",
    "chatCol = database[\"chats\"]\n"
   ]
  },
  {
   "cell_type": "code",
   "execution_count": 15,
   "metadata": {},
   "outputs": [
    {
     "ename": "NameError",
     "evalue": "name 'chatCol' is not defined",
     "output_type": "error",
     "traceback": [
      "\u001b[0;31m---------------------------------------------------------------------------\u001b[0m",
      "\u001b[0;31mNameError\u001b[0m                                 Traceback (most recent call last)",
      "\u001b[0;32m<ipython-input-15-4c98b1493f76>\u001b[0m in \u001b[0;36m<module>\u001b[0;34m\u001b[0m\n\u001b[0;32m----> 1\u001b[0;31m \u001b[0mlist\u001b[0m\u001b[0;34m(\u001b[0m\u001b[0mchatCol\u001b[0m\u001b[0;34m.\u001b[0m\u001b[0mfind\u001b[0m\u001b[0;34m(\u001b[0m\u001b[0;34m{\u001b[0m\u001b[0;34m}\u001b[0m\u001b[0;34m)\u001b[0m\u001b[0;34m)\u001b[0m\u001b[0;34m\u001b[0m\u001b[0;34m\u001b[0m\u001b[0m\n\u001b[0m",
      "\u001b[0;31mNameError\u001b[0m: name 'chatCol' is not defined"
     ]
    }
   ],
   "source": [
    "list(chatCol.find({}))"
   ]
  }
 ],
 "metadata": {
  "kernelspec": {
   "display_name": "Python 3",
   "language": "python",
   "name": "python3"
  },
  "language_info": {
   "codemirror_mode": {
    "name": "ipython",
    "version": 3
   },
   "file_extension": ".py",
   "mimetype": "text/x-python",
   "name": "python",
   "nbconvert_exporter": "python",
   "pygments_lexer": "ipython3",
   "version": "3.7.5"
  }
 },
 "nbformat": 4,
 "nbformat_minor": 2
}
