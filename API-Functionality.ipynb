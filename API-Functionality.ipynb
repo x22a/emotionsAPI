{
 "cells": [
  {
   "cell_type": "markdown",
   "metadata": {},
   "source": [
    "# Chat API with Sentiment Analysis"
   ]
  },
  {
   "cell_type": "code",
   "execution_count": 1,
   "metadata": {},
   "outputs": [],
   "source": [
    "import requests\n",
    "url = \"https://emotionapi.herokuapp.com/\""
   ]
  },
  {
   "cell_type": "markdown",
   "metadata": {},
   "source": [
    "## Endpoints:"
   ]
  },
  {
   "cell_type": "markdown",
   "metadata": {},
   "source": [
    "### \"/user/create\"\n",
    "###### When you make a GET request to that endpoint it returns an HTML form so you can make a POST request and CREATE an USER"
   ]
  },
  {
   "cell_type": "code",
   "execution_count": 2,
   "metadata": {},
   "outputs": [
    {
     "data": {
      "text/html": [
       "<form method=\"POST\">                                                                              \n",
       "                  Username: <input type=\"text\" name=\"username\"><br>\n",
       "                  <input type=\"submit\" value=\"Submit\"><br>\n",
       "              </form>\n"
      ],
      "text/plain": [
       "<IPython.core.display.HTML object>"
      ]
     },
     "metadata": {},
     "output_type": "display_data"
    }
   ],
   "source": [
    "%%html\n",
    "<form method=\"POST\">                                                                              \n",
    "                  Username: <input type=\"text\" name=\"username\"><br>\n",
    "                  <input type=\"submit\" value=\"Submit\"><br>\n",
    "              </form>"
   ]
  },
  {
   "cell_type": "markdown",
   "metadata": {},
   "source": [
    "###### You can POST directly the USER to the endpoint"
   ]
  },
  {
   "cell_type": "code",
   "execution_count": 3,
   "metadata": {},
   "outputs": [
    {
     "data": {
      "text/plain": [
       "'jose already exists in the Database with ID: (5e54151318ef4c69d6f18801). Please try another name'"
      ]
     },
     "execution_count": 3,
     "metadata": {},
     "output_type": "execute_result"
    }
   ],
   "source": [
    "endpoint = \"user/create\"\n",
    "fullUrl = url+endpoint\n",
    "name = \"jose\"\n",
    "params = {\n",
    "    'username': name\n",
    "}\n",
    "requests.post(fullUrl, data=params).text"
   ]
  },
  {
   "cell_type": "markdown",
   "metadata": {},
   "source": [
    "### \"/chat/create\"\n",
    "###### when you make a GET request to that endpoint it returns an HTML form so you can make a POST request and CREATE a CHAT with the USERS you choose. They have to go in the User field separated by \",\" (commas)"
   ]
  },
  {
   "cell_type": "code",
   "execution_count": 4,
   "metadata": {},
   "outputs": [
    {
     "data": {
      "text/html": [
       "<form method=\"POST\">\n",
       "                  Usernames: <input type=\"text\" name=\"username\"><br>\n",
       "                  <input type=\"submit\" value=\"Submit\"><br>\n",
       "              </form>\n"
      ],
      "text/plain": [
       "<IPython.core.display.HTML object>"
      ]
     },
     "metadata": {},
     "output_type": "display_data"
    }
   ],
   "source": [
    "%%html\n",
    "<form method=\"POST\">\n",
    "                  Usernames: <input type=\"text\" name=\"username\"><br>\n",
    "                  <input type=\"submit\" value=\"Submit\"><br>\n",
    "              </form>"
   ]
  },
  {
   "cell_type": "markdown",
   "metadata": {},
   "source": [
    "###### You can POST directly the USERS to the endpoint"
   ]
  },
  {
   "cell_type": "code",
   "execution_count": 5,
   "metadata": {},
   "outputs": [
    {
     "data": {
      "text/plain": [
       "'<h1>Chat created with id: 5e542024b68500a42ffe6055</h1>'"
      ]
     },
     "execution_count": 5,
     "metadata": {},
     "output_type": "execute_result"
    }
   ],
   "source": [
    "endpoint = \"chat/create\"\n",
    "fullUrl = url+endpoint\n",
    "name = \"juanan, antonio, jose\"\n",
    "params = {\n",
    "    'usernames': name\n",
    "}\n",
    "requests.post(fullUrl, data=params).text"
   ]
  },
  {
   "cell_type": "markdown",
   "metadata": {},
   "source": [
    "### \"/chat/<'chat_id'>/adduser\"\n",
    "###### when you make a GET request to that endpoint it returns an HTML form so you can make a POST request and ADD an USER to the <'chat_id'> CHAT"
   ]
  },
  {
   "cell_type": "code",
   "execution_count": 6,
   "metadata": {},
   "outputs": [
    {
     "data": {
      "text/html": [
       "<form method=\"POST\">\n",
       "                  Username: <input type=\"text\" name=\"usernames\"><br>\n",
       "                  <input type=\"submit\" value=\"Submit\"><br>\n",
       "              </form>\n"
      ],
      "text/plain": [
       "<IPython.core.display.HTML object>"
      ]
     },
     "metadata": {},
     "output_type": "display_data"
    }
   ],
   "source": [
    "%%html\n",
    "<form method=\"POST\">\n",
    "                  Username: <input type=\"text\" name=\"usernames\"><br>\n",
    "                  <input type=\"submit\" value=\"Submit\"><br>\n",
    "              </form>"
   ]
  },
  {
   "cell_type": "markdown",
   "metadata": {},
   "source": [
    "###### You can POST directly the USER to the endpoint"
   ]
  },
  {
   "cell_type": "code",
   "execution_count": 7,
   "metadata": {},
   "outputs": [
    {
     "data": {
      "text/plain": [
       "\"User ['jose'] added to chat: 5e53ac49452ccadc4352b138\""
      ]
     },
     "execution_count": 7,
     "metadata": {},
     "output_type": "execute_result"
    }
   ],
   "source": [
    "endpoint = \"chat/5e53ac49452ccadc4352b138/adduser\"\n",
    "fullUrl = url+endpoint\n",
    "name = \"jose\"\n",
    "params = {\n",
    "    'usernames': name\n",
    "}\n",
    "requests.post(fullUrl, data=params).text"
   ]
  },
  {
   "cell_type": "markdown",
   "metadata": {},
   "source": [
    "### \"/chat/<'chat_id'>/addmessage\"\n",
    "###### when you make a GET request to that endpoint it returns an HTML form so you can make a POST request and ADD a MESSAGE written by the USER you choose to the <'chat_id'> CHAT."
   ]
  },
  {
   "cell_type": "code",
   "execution_count": 8,
   "metadata": {},
   "outputs": [
    {
     "data": {
      "text/html": [
       "<form method=\"POST\">\n",
       "                  Who sends the message?: <input type=\"text\" name=\"user\"><br>\n",
       "                  Message: <input type=\"text\" name=\"message\"><br>\n",
       "                  <input type=\"submit\" value=\"Submit\"><br>\n",
       "              </form>\n"
      ],
      "text/plain": [
       "<IPython.core.display.HTML object>"
      ]
     },
     "metadata": {},
     "output_type": "display_data"
    }
   ],
   "source": [
    "%%html\n",
    "<form method=\"POST\">\n",
    "                  Who sends the message?: <input type=\"text\" name=\"user\"><br>\n",
    "                  Message: <input type=\"text\" name=\"message\"><br>\n",
    "                  <input type=\"submit\" value=\"Submit\"><br>\n",
    "              </form>"
   ]
  },
  {
   "cell_type": "markdown",
   "metadata": {},
   "source": [
    "###### You can POST directly the USER and the MESSAGE to the endpoint"
   ]
  },
  {
   "cell_type": "code",
   "execution_count": 9,
   "metadata": {},
   "outputs": [
    {
     "data": {
      "text/plain": [
       "'Message added to chat: 5e53ac49452ccadc4352b138'"
      ]
     },
     "execution_count": 9,
     "metadata": {},
     "output_type": "execute_result"
    }
   ],
   "source": [
    "endpoint = \"chat/5e53ac49452ccadc4352b138/addmessage\"\n",
    "fullUrl = url+endpoint\n",
    "name = \"jose\"\n",
    "message = \"holahola\"\n",
    "params = {\n",
    "    'user': name,\n",
    "    'message': message\n",
    "}\n",
    "requests.post(fullUrl, data=params).text"
   ]
  },
  {
   "cell_type": "markdown",
   "metadata": {},
   "source": [
    "### \"/chat/<'chat_id'>/list\"\n",
    "###### when you make a GET request to that endpoint it RETURNS ALL the messages from <'chat_id'> CHAT."
   ]
  },
  {
   "cell_type": "code",
   "execution_count": 10,
   "metadata": {},
   "outputs": [
    {
     "data": {
      "text/plain": [
       "'[[\"javi\", \"what\\'s up boys\"], [\"nelson\", \"hey Javi\"], [\"nelson\", \"where are you?\"], [\"oier\", \"Javi! Long time no see\"], [\"viana\", \"do you have the souvenirs?\"], [\"javi\", \"I\\'m in Germany right now\"], [\"xabi\", \"when are you coming back to Spain?\"], [\"javi\", \"by the end of the semester\"], [\"javi\", \"and yes, I have them Viana ;)\"], [\"jorge\", \"Is anybody coming over?\"], [\"xabi\", \"don\\'t think so...\"], [\"xabi\", \"how is that job search going?\"], [\"jorge\", \"I\\'m waiting for two companies to call me\"], [\"xabi\", \"Good luck!\"], [\"xabi\", \"Juan, how is it going in Mexico?\"], [\"juan\", \"These Mexicans are going to kill us someday\"], [\"jose\", \"holahola\"], [\"jose\", \"holahola\"], [\"jose\", \"holahola\"]]'"
      ]
     },
     "execution_count": 10,
     "metadata": {},
     "output_type": "execute_result"
    }
   ],
   "source": [
    "endpoint = \"chat/5e53ac49452ccadc4352b138/list\"\n",
    "fullUrl = url+endpoint\n",
    "requests.get(fullUrl).text"
   ]
  },
  {
   "cell_type": "markdown",
   "metadata": {},
   "source": [
    "### \"/chat/<'chat_id'>/sentiment\"\n",
    "###### when you make a GET request to that endpoint it RETURNS the SENTIMENT of  <'chat_id'> CHAT."
   ]
  },
  {
   "cell_type": "code",
   "execution_count": 11,
   "metadata": {},
   "outputs": [
    {
     "data": {
      "text/plain": [
       "'{\\n  \"error\": \"\\\\n**********************************************************************\\\\n  Resource \\\\u001b[93mvader_lexicon\\\\u001b[0m not found.\\\\n  Please use the NLTK Downloader to obtain the resource:\\\\n\\\\n  \\\\u001b[31m>>> import nltk\\\\n  >>> nltk.download(\\'vader_lexicon\\')\\\\n  \\\\u001b[0m\\\\n  For more information see: https://www.nltk.org/data.html\\\\n\\\\n  Attempted to load \\\\u001b[93msentiment/vader_lexicon.zip/vader_lexicon/vader_lexicon.txt\\\\u001b[0m\\\\n\\\\n  Searched in:\\\\n    - \\'/app/nltk_data\\'\\\\n    - \\'/usr/local/nltk_data\\'\\\\n    - \\'/usr/local/share/nltk_data\\'\\\\n    - \\'/usr/local/lib/nltk_data\\'\\\\n    - \\'/usr/share/nltk_data\\'\\\\n    - \\'/usr/local/share/nltk_data\\'\\\\n    - \\'/usr/lib/nltk_data\\'\\\\n    - \\'/usr/local/lib/nltk_data\\'\\\\n    - \\'\\'\\\\n**********************************************************************\\\\n\"\\n}\\n'"
      ]
     },
     "execution_count": 11,
     "metadata": {},
     "output_type": "execute_result"
    }
   ],
   "source": [
    "endpoint = \"chat/5e53ac49452ccadc4352b138/sentiment\"\n",
    "fullUrl = url+endpoint\n",
    "requests.get(fullUrl).text"
   ]
  },
  {
   "cell_type": "markdown",
   "metadata": {},
   "source": [
    "### \"/user/<'user'>/sentiment\"\n",
    "###### when you make a GET request to that endpoint it RETURNS the SENTIMENT of  <'user'> USER in all CHATS."
   ]
  },
  {
   "cell_type": "code",
   "execution_count": 12,
   "metadata": {},
   "outputs": [
    {
     "data": {
      "text/plain": [
       "'{\\n  \"error\": \"\\'jose\\' is not a valid ObjectId, it must be a 12-byte input or a 24-character hex string\"\\n}\\n'"
      ]
     },
     "execution_count": 12,
     "metadata": {},
     "output_type": "execute_result"
    }
   ],
   "source": [
    "endpoint = \"chat/jose/sentiment\"\n",
    "fullUrl = url+endpoint\n",
    "requests.get(fullUrl).text"
   ]
  },
  {
   "cell_type": "markdown",
   "metadata": {},
   "source": [
    "### \"user/<'user'>/recommend\"\n",
    "###### when you make a GET request to that endpoint it RETURNS the USER that MATCHES the best with <'user'> USER."
   ]
  },
  {
   "cell_type": "code",
   "execution_count": 13,
   "metadata": {
    "scrolled": true
   },
   "outputs": [
    {
     "data": {
      "text/plain": [
       "'{\\n  \"error\": \"\\'Texts\\'\"\\n}\\n'"
      ]
     },
     "execution_count": 13,
     "metadata": {},
     "output_type": "execute_result"
    }
   ],
   "source": [
    "endpoint = \"user/xabi/recommend\"\n",
    "fullUrl = url+endpoint\n",
    "requests.get(fullUrl).text"
   ]
  }
 ],
 "metadata": {
  "kernelspec": {
   "display_name": "Python 3",
   "language": "python",
   "name": "python3"
  },
  "language_info": {
   "codemirror_mode": {
    "name": "ipython",
    "version": 3
   },
   "file_extension": ".py",
   "mimetype": "text/x-python",
   "name": "python",
   "nbconvert_exporter": "python",
   "pygments_lexer": "ipython3",
   "version": "3.7.5"
  }
 },
 "nbformat": 4,
 "nbformat_minor": 2
}
